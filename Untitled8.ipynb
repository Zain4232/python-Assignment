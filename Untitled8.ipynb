{
 "cells": [
  {
   "cell_type": "code",
   "execution_count": 1,
   "id": "a7b883c3",
   "metadata": {},
   "outputs": [
    {
     "name": "stdout",
     "output_type": "stream",
     "text": [
      "Twinkle,twinkle,little star,        \n",
      "        How I wonder what you are!        \n",
      "               Up above the world so high,\n",
      "               Like a diamond in the sky.\n",
      "Twinkle,twinkle,little star,\n",
      "        How I wonder what you are\n"
     ]
    }
   ],
   "source": [
    "#1 write a python program to print the following string in a specific format\n",
    "print(\"Twinkle,twinkle,little star,        \\n        How I wonder what you are!        \\n               Up above the world so high,\\n               Like a diamond in the sky.\\nTwinkle,twinkle,little star,\\n        How I wonder what you are\")"
   ]
  },
  {
   "cell_type": "code",
   "execution_count": 2,
   "id": "dbb7eaf3",
   "metadata": {},
   "outputs": [
    {
     "name": "stdout",
     "output_type": "stream",
     "text": [
      "python version\n",
      "3.8.8 (default, Apr 13 2021, 15:08:07) [MSC v.1916 32 bit (Intel)]\n",
      "python info\n",
      "sys.version_info(major=3, minor=8, micro=8, releaselevel='final', serial=0)\n"
     ]
    }
   ],
   "source": [
    "#2 write a python program to get a python version you are using\n",
    "import sys\n",
    "print(\"python version\");\n",
    "print(sys.version);\n",
    "print(\"python info\");\n",
    "print(sys.version_info);"
   ]
  },
  {
   "cell_type": "code",
   "execution_count": 3,
   "id": "fc6eeb89",
   "metadata": {},
   "outputs": [
    {
     "name": "stdout",
     "output_type": "stream",
     "text": [
      "current date and time\n",
      "24-10-21 12-13-47\n"
     ]
    }
   ],
   "source": [
    "#3 write a python program to display the current date and time.\n",
    "import datetime as dt\n",
    "n=dt.datetime.now()\n",
    "print(\"current date and time\");\n",
    "print(n.strftime(\"%d-%m-%y %H-%M-%S\"));"
   ]
  },
  {
   "cell_type": "code",
   "execution_count": 4,
   "id": "79db08de",
   "metadata": {},
   "outputs": [
    {
     "name": "stdout",
     "output_type": "stream",
     "text": [
      "Enter the radius of the circle: 15\n",
      "Area of the circle is: 706.8583470577034\n"
     ]
    }
   ],
   "source": [
    "#4 write a python program which accepts the radius of the circle from the user and compute the area\n",
    "import math\n",
    "radius=float(input(\"Enter the radius of the circle: \"))\n",
    "area=math.pi*radius*radius\n",
    "print(\"Area of the circle is: {0}\".format(area));"
   ]
  },
  {
   "cell_type": "code",
   "execution_count": 5,
   "id": "3ce691d1",
   "metadata": {},
   "outputs": [
    {
     "name": "stdout",
     "output_type": "stream",
     "text": [
      "Enter first name:Zain\n",
      "Enter last name:Abideen\n",
      "Abideen Zain\n"
     ]
    }
   ],
   "source": [
    "#5 write a python program which accepts user's first name and last name and print them in reverse order with a space between them.\n",
    "firstname=input(\"Enter first name:\");\n",
    "lastname=input(\"Enter last name:\");\n",
    "print(lastname+\" \"+firstname);"
   ]
  },
  {
   "cell_type": "code",
   "execution_count": 6,
   "id": "fe52cdb4",
   "metadata": {},
   "outputs": [
    {
     "name": "stdout",
     "output_type": "stream",
     "text": [
      "Enter math marks:73\n",
      "Enter english marks:68\n",
      "141\n"
     ]
    }
   ],
   "source": [
    "#6 write a python program which takes two inputs from user and print them addition\n",
    "math=int(input(\"Enter math marks:\"));\n",
    "english=int(input(\"Enter english marks:\"));\n",
    "print(math + english)"
   ]
  },
  {
   "cell_type": "code",
   "execution_count": 7,
   "id": "a478abad",
   "metadata": {},
   "outputs": [
    {
     "name": "stdout",
     "output_type": "stream",
     "text": [
      "Enter english marks:68\n",
      "Enter math marks:73\n",
      "Enter urdu marks:85\n",
      "Enter islamiyat marks:77\n",
      "Enter physics marks:57\n",
      "Grade A\n"
     ]
    }
   ],
   "source": [
    "#7 write a program which takes five inputs from user for differents subject's marks,total it and generate marksheet using grades?\n",
    "english=int(input(\"Enter english marks:\"));\n",
    "math=int(input(\"Enter math marks:\"));\n",
    "urdu=int(input(\"Enter urdu marks:\"));\n",
    "islamiyat=int(input(\"Enter islamiyat marks:\"));\n",
    "physics=int(input(\"Enter physics marks:\"));\n",
    "total=500;\n",
    "percentage=(english+math+urdu+islamiyat+physics)/total*100;\n",
    "if percentage < 100 and percentage > 80:\n",
    "    print(\"Grade A+\");\n",
    "elif percentage < 80 and percentage > 70:\n",
    "    print(\"Grade A\");\n",
    "elif percentage < 70 and percentage > 60:\n",
    "    print(\"Grade B\");\n",
    "elif percentage < 60 and percentage > 50:\n",
    "    print(\"Grade C\");\n",
    "elif percentage < 50 and percentage > 40:\n",
    "    print(\"Grade D\");\n",
    "elif percentage < 40 and percentage > 33:\n",
    "    print(\"Grade E\");\n",
    "else:\n",
    "    print(\"Fail\")"
   ]
  },
  {
   "cell_type": "code",
   "execution_count": 8,
   "id": "7b2a6886",
   "metadata": {},
   "outputs": [
    {
     "name": "stdout",
     "output_type": "stream",
     "text": [
      "Enter a number:4\n",
      "4 is even number\n"
     ]
    }
   ],
   "source": [
    "#8 write a python program which take input from user and identify that the given number is even or odd?\n",
    "number=int(input(\"Enter a number:\"));\n",
    "if(number % 2) == 0:\n",
    "    print(\"{0} is even number\".format(number));\n",
    "else:\n",
    "    print(\"{0} is odd number\".format(number));"
   ]
  },
  {
   "cell_type": "code",
   "execution_count": 9,
   "id": "bed83ae8",
   "metadata": {},
   "outputs": [
    {
     "name": "stdout",
     "output_type": "stream",
     "text": [
      "[10, 30, 40, 70]\n",
      "lenth of the list is: 4\n"
     ]
    }
   ],
   "source": [
    "#9 write a python program which print the length of the list?\n",
    "mylist=[10,30,40,70];\n",
    "print(mylist)\n",
    "\n",
    "print(\"lenth of the list is:\",len(mylist))"
   ]
  },
  {
   "cell_type": "code",
   "execution_count": 10,
   "id": "d9deed5a",
   "metadata": {},
   "outputs": [
    {
     "name": "stdout",
     "output_type": "stream",
     "text": [
      "sum of all numeric items is: 150\n"
     ]
    }
   ],
   "source": [
    "#10 write a python program to sum all the numeric items in the list?\n",
    "mylist=[10,30,40,70];\n",
    "total=sum(mylist)\n",
    "print(\"sum of all numeric items is:\",total)"
   ]
  },
  {
   "cell_type": "code",
   "execution_count": 11,
   "id": "a57e346e",
   "metadata": {},
   "outputs": [
    {
     "name": "stdout",
     "output_type": "stream",
     "text": [
      "[200, 40, 100, 201]\n",
      "largest number of list: 201\n"
     ]
    }
   ],
   "source": [
    "#11 write a python program to get a largest number from numeric list.\n",
    "mylist=[200,40,100,201];\n",
    "print(mylist)\n",
    "\n",
    "print(\"largest number of list:\",max(mylist))"
   ]
  },
  {
   "cell_type": "code",
   "execution_count": null,
   "id": "90e610d6",
   "metadata": {},
   "outputs": [],
   "source": []
  }
 ],
 "metadata": {
  "kernelspec": {
   "display_name": "Python 3",
   "language": "python",
   "name": "python3"
  },
  "language_info": {
   "codemirror_mode": {
    "name": "ipython",
    "version": 3
   },
   "file_extension": ".py",
   "mimetype": "text/x-python",
   "name": "python",
   "nbconvert_exporter": "python",
   "pygments_lexer": "ipython3",
   "version": "3.8.8"
  }
 },
 "nbformat": 4,
 "nbformat_minor": 5
}
